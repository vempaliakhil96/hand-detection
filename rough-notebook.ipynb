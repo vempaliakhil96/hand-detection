{
 "cells": [
  {
   "cell_type": "code",
   "execution_count": 20,
   "metadata": {},
   "outputs": [],
   "source": [
    "%matplotlib inline\n",
    "import cv2\n",
    "import IPython\n",
    "import time\n",
    "from io import BytesIO\n",
    "import numpy as np\n",
    "import PIL"
   ]
  },
  {
   "cell_type": "code",
   "execution_count": 21,
   "metadata": {},
   "outputs": [],
   "source": [
    "def get_frame(cam):\n",
    "    # Capture frame-by-frame\n",
    "    ret, frame = cam.read()\n",
    "\n",
    "    #flip image for natural viewing\n",
    "    frame = cv2.flip(frame, 1)\n",
    "    \n",
    "    #frame = modify_frame(frame)\n",
    "\n",
    "    return frame\n",
    "\n",
    "\n",
    "#Use 'jpeg' instead of 'png' (~5 times faster)\n",
    "def array_to_image(a, fmt='jpeg'):\n",
    "    #Create binary stream object\n",
    "    f = BytesIO()\n",
    "\n",
    "    #Convert array to binary stream object\n",
    "    PIL.Image.fromarray(a).save(f, fmt)\n",
    "\n",
    "    return IPython.display.Image(data=f.getvalue())\n",
    "\n",
    "\n",
    "\n",
    "def modify_frame(frame):\n",
    "    kernel = np.ones((3,3),np.uint8)\n",
    "    hsv = cv2.cvtColor(frame, cv2.COLOR_BGR2HSV)\n",
    "\n",
    "    # define range of skin color in HSV\n",
    "    lower_skin = np.array([0,20,70], dtype=np.uint8)\n",
    "    upper_skin = np.array([20,255,255], dtype=np.uint8)\n",
    "\n",
    "    #extract skin colur image \n",
    "    mask = cv2.inRange(hsv, lower_skin, upper_skin)\n",
    "    \n",
    "    #extrapolate the hand to fill dark spots within\n",
    "    mask = cv2.dilate(mask,kernel,iterations = 4)\n",
    "    \n",
    "    #blur the image\n",
    "    frame = cv2.GaussianBlur(mask,(7,7),50) \n",
    "\n",
    "    return frame\n",
    "\n",
    "\n",
    "\n",
    "def get_region_of_interest(frame):\n",
    "    start_point = (760, 110)\n",
    "    end_point = (1200,530)\n",
    "    color = (255, 0, 0)\n",
    "    thickness = 1\n",
    "    frame = cv2.rectangle(frame, start_point, end_point, color, thickness)\n",
    "    return frame[start_point[1]:end_point[1], start_point[0]: end_point[0]]"
   ]
  },
  {
   "cell_type": "code",
   "execution_count": 22,
   "metadata": {},
   "outputs": [
    {
     "name": "stdout",
     "output_type": "stream",
     "text": [
      "Stream stopped\n"
     ]
    }
   ],
   "source": [
    "cam = cv2.VideoCapture(0)\n",
    "\n",
    "d = IPython.display.display(\"\", display_id=1)\n",
    "d2 = IPython.display.display(\"\", display_id=2)\n",
    "\n",
    "while True:\n",
    "    try:\n",
    "        t1 = time.time()\n",
    "        frame = get_frame(cam)\n",
    "        \n",
    "        #roi = get_region_of_interest(frame)\n",
    "        \n",
    "        t_mid = time.time()\n",
    "        record_image = 0\n",
    "        if (t_mid - t1 > 0) and (record_image == 1):\n",
    "            name = \"images/\"+ str(int(t_mid)) + \".jpg\"\n",
    "            cv2.imwrite(name,roi)\n",
    "\n",
    "        im = array_to_image(frame)\n",
    "\n",
    "        d.update(im)\n",
    "\n",
    "        t2 = time.time()\n",
    "\n",
    "        s = f\"\"\"{int(1/(t2-t1))} FPS\"\"\"\n",
    "        d2.update( IPython.display.HTML(s) )\n",
    "    except KeyboardInterrupt:\n",
    "        print()\n",
    "        cam.release()\n",
    "        IPython.display.clear_output()\n",
    "        print (\"Stream stopped\")\n",
    "        break"
   ]
  },
  {
   "cell_type": "code",
   "execution_count": 39,
   "metadata": {},
   "outputs": [
    {
     "data": {
      "text/plain": [
       "['akhil_1587654474.jpg',\n",
       " 'akhil_1587654475.jpg',\n",
       " 'akhil_1587654477.jpg',\n",
       " 'akhil_1587654476.jpg',\n",
       " 'akhil_1587654466.jpg',\n",
       " '.DS_Store',\n",
       " 'akhil_1587654473.jpg',\n",
       " 'akhil_1587654467.jpg',\n",
       " 'akhil_1587654478.jpg']"
      ]
     },
     "execution_count": 39,
     "metadata": {},
     "output_type": "execute_result"
    }
   ],
   "source": [
    "import os\n",
    "\n",
    "os.listdir('images/skin_color/')"
   ]
  },
  {
   "cell_type": "code",
   "execution_count": 57,
   "metadata": {},
   "outputs": [],
   "source": [
    "roi_1_hsv_values = []\n",
    "roi_2_hsv_values = []\n",
    "for image_path in os.listdir('images/skin_color/'):\n",
    "    if image_path[0] == \".\":\n",
    "        continue\n",
    "    path = 'images/skin_color/'+image_path\n",
    "    # Using cv2.imread() method \n",
    "    img = cv2.imread(path)\n",
    "    hsv = cv2.cvtColor(img, cv2.COLOR_BGR2HSV)\n",
    "    h, s, v = hsv[:,:,0], hsv[:,:,1], hsv[:,:,2]\n",
    "    if image_path[:5] == 'roi_1':\n",
    "        roi_1_hsv_values.append((h, s, v))\n",
    "    else:\n",
    "        roi_2_hsv_values.append((h, s, v))\n",
    "    \n"
   ]
  },
  {
   "cell_type": "code",
   "execution_count": 73,
   "metadata": {},
   "outputs": [],
   "source": [
    "roi_1_h = np.stack(tuple([itr[0] for itr in roi_1_hsv_values]), axis = 0)\n",
    "roi_1_s = np.stack(tuple([itr[1] for itr in roi_1_hsv_values]), axis = 0)\n",
    "roi_1_v = np.stack(tuple([itr[2] for itr in roi_1_hsv_values]), axis = 0)\n",
    "\n",
    "roi_2_h = np.stack(tuple([itr[0] for itr in roi_2_hsv_values]), axis = 0)\n",
    "roi_2_s = np.stack(tuple([itr[1] for itr in roi_2_hsv_values]), axis = 0)\n",
    "roi_2_v = np.stack(tuple([itr[2] for itr in roi_2_hsv_values]), axis = 0)"
   ]
  },
  {
   "cell_type": "code",
   "execution_count": 85,
   "metadata": {},
   "outputs": [],
   "source": [
    "offsetLowThreshold = 80\n",
    "offsetHighThreshold = 30\n",
    "\n",
    "h_low_threshold = int(max(0, min(roi_1_h.mean(), roi_2_h.mean()) - offsetLowThreshold))\n",
    "h_high_threshold = int(min(255, max(roi_1_h.mean(), roi_2_h.mean()) + offsetHighThreshold))\n",
    "\n",
    "s_low_threshold = int(max(0, min(roi_1_s.mean(), roi_2_s.mean()) - offsetLowThreshold))\n",
    "s_high_threshold = int(min(255, max(roi_1_s.mean(), roi_2_s.mean()) + offsetHighThreshold))"
   ]
  },
  {
   "cell_type": "code",
   "execution_count": 87,
   "metadata": {},
   "outputs": [
    {
     "data": {
      "text/plain": [
       "(37, 0)"
      ]
     },
     "execution_count": 87,
     "metadata": {},
     "output_type": "execute_result"
    }
   ],
   "source": [
    "h_high_threshold, h_low_threshold"
   ]
  },
  {
   "cell_type": "code",
   "execution_count": 88,
   "metadata": {},
   "outputs": [
    {
     "data": {
      "text/plain": [
       "(148, 33)"
      ]
     },
     "execution_count": 88,
     "metadata": {},
     "output_type": "execute_result"
    }
   ],
   "source": [
    "s_high_threshold, s_low_threshold"
   ]
  },
  {
   "cell_type": "code",
   "execution_count": null,
   "metadata": {},
   "outputs": [],
   "source": []
  }
 ],
 "metadata": {
  "kernelspec": {
   "display_name": "Python 3",
   "language": "python",
   "name": "python3"
  },
  "language_info": {
   "codemirror_mode": {
    "name": "ipython",
    "version": 3
   },
   "file_extension": ".py",
   "mimetype": "text/x-python",
   "name": "python",
   "nbconvert_exporter": "python",
   "pygments_lexer": "ipython3",
   "version": "3.6.10"
  }
 },
 "nbformat": 4,
 "nbformat_minor": 4
}
